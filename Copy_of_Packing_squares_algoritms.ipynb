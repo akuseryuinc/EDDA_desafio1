{
  "nbformat": 4,
  "nbformat_minor": 0,
  "metadata": {
    "colab": {
      "name": "Copy of Packing squares algoritms.ipynb",
      "provenance": [],
      "collapsed_sections": [],
      "authorship_tag": "ABX9TyPPUHYojVvC2ppcbdY6OOmy",
      "include_colab_link": true
    },
    "kernelspec": {
      "name": "python3",
      "display_name": "Python 3"
    },
    "language_info": {
      "name": "python"
    }
  },
  "cells": [
    {
      "cell_type": "markdown",
      "metadata": {
        "id": "view-in-github",
        "colab_type": "text"
      },
      "source": [
        "<a href=\"https://colab.research.google.com/github/ebelleng/EDDA_desafio1/blob/main/Copy_of_Packing_squares_algoritms.ipynb\" target=\"_parent\"><img src=\"https://colab.research.google.com/assets/colab-badge.svg\" alt=\"Open In Colab\"/></a>"
      ]
    },
    {
      "cell_type": "markdown",
      "metadata": {
        "id": "Pmu3EcU1CUCQ"
      },
      "source": [
        "# Packing Squares \n"
      ]
    },
    {
      "cell_type": "code",
      "metadata": {
        "id": "KhdsQp2mCLjJ"
      },
      "source": [
        "def hola_mundo():\n",
        "  print(\"Hola mundo\")"
      ],
      "execution_count": null,
      "outputs": []
    },
    {
      "cell_type": "code",
      "metadata": {
        "colab": {
          "base_uri": "https://localhost:8080/"
        },
        "id": "NIbeOO6BC5nj",
        "outputId": "e0feb7ab-4600-448b-de56-41a1aea90330"
      },
      "source": [
        "hola_mundo()"
      ],
      "execution_count": null,
      "outputs": [
        {
          "output_type": "stream",
          "text": [
            "Hola mundo\n"
          ],
          "name": "stdout"
        }
      ]
    },
    {
      "cell_type": "code",
      "metadata": {
        "colab": {
          "base_uri": "https://localhost:8080/"
        },
        "id": "EY5V6e10Gcvv",
        "outputId": "872a9a31-ae82-47ff-ab4f-df68ffb732c4"
      },
      "source": [
        "lista = [1,2,3]\n",
        "lista"
      ],
      "execution_count": 1,
      "outputs": [
        {
          "output_type": "execute_result",
          "data": {
            "text/plain": [
              "[1, 2, 3]"
            ]
          },
          "metadata": {
            "tags": []
          },
          "execution_count": 1
        }
      ]
    },
    {
      "cell_type": "code",
      "metadata": {
        "id": "T1USJY58Gf-w"
      },
      "source": [
        ""
      ],
      "execution_count": null,
      "outputs": []
    }
  ]
}