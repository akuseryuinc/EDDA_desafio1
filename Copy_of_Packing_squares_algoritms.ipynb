{
  "nbformat": 4,
  "nbformat_minor": 0,
  "metadata": {
    "colab": {
      "name": "Copy of Packing squares algoritms.ipynb",
      "provenance": [],
      "collapsed_sections": [],
      "authorship_tag": "ABX9TyNwJFE8126Wx6DypBPesICs",
      "include_colab_link": true
    },
    "kernelspec": {
      "name": "python3",
      "display_name": "Python 3"
    },
    "language_info": {
      "name": "python"
    }
  },
  "cells": [
    {
      "cell_type": "markdown",
      "metadata": {
        "id": "view-in-github",
        "colab_type": "text"
      },
      "source": [
        "<a href=\"https://colab.research.google.com/github/ebelleng/EDDA_desafio1/blob/main/Copy_of_Packing_squares_algoritms.ipynb\" target=\"_parent\"><img src=\"https://colab.research.google.com/assets/colab-badge.svg\" alt=\"Open In Colab\"/></a>"
      ]
    },
    {
      "cell_type": "markdown",
      "metadata": {
        "id": "Pmu3EcU1CUCQ"
      },
      "source": [
        "# Packing Squares \n"
      ]
    },
    {
      "cell_type": "markdown",
      "metadata": {
        "id": "UqhZv6lod3pe"
      },
      "source": [
        "## Estados\n"
      ]
    },
    {
      "cell_type": "code",
      "metadata": {
        "id": "MP3ljxIfjlTg"
      },
      "source": [
        "global squares\n",
        "squares = 8\n",
        "\n",
        "tamano_cuadraos = [3,2,2,2,1,1,1,1]"
      ],
      "execution_count": null,
      "outputs": []
    },
    {
      "cell_type": "code",
      "metadata": {
        "id": "T1USJY58Gf-w"
      },
      "source": [
        "class Estado:\n",
        "  X = [0] * squares\n",
        "  Y = [0] * squares\n",
        "\n",
        "  def __init__(self, i=0, x=0, y=0):\n",
        "    self.X[i] = x\n",
        "    self.Y[i] = y"
      ],
      "execution_count": null,
      "outputs": []
    },
    {
      "cell_type": "code",
      "metadata": {
        "id": "CFqp0Cg08Ec1"
      },
      "source": [
        "# [3,2,2,2,1,1,1,1]\n",
        "#X = [](1, 1, 3, 4, 4, 5, 5, 5)\n",
        "#Y = [](1, 4, 4, 1, 3, 3, 4, 5)"
      ],
      "execution_count": null,
      "outputs": []
    },
    {
      "cell_type": "code",
      "metadata": {
        "id": "eJJXHhTIfHs-"
      },
      "source": [
        "class Accion:\n",
        "  def __init__(self, i, x, y):\n",
        "    self.i = i\n",
        "    self.x = x\n",
        "    self.y = y"
      ],
      "execution_count": null,
      "outputs": []
    },
    {
      "cell_type": "code",
      "metadata": {
        "id": "MAX3nFVG-Cov"
      },
      "source": [
        "def transicion(estado, accion):\n",
        "  estado_siguiente = State(accion.i, accion.x, accion.y)\n",
        "  return estado_siguiente"
      ],
      "execution_count": null,
      "outputs": []
    },
    {
      "cell_type": "code",
      "metadata": {
        "id": "ixyC9xqr-eT0"
      },
      "source": [
        "def obtener_acciones(state, i): ## Etienne del futuro: el i es la posicion que se maneja en el main\n",
        "  lista_acciones_posibles = []\n",
        "\n",
        "  \n",
        "\n",
        "  \n",
        "  return"
      ],
      "execution_count": null,
      "outputs": []
    },
    {
      "cell_type": "code",
      "metadata": {
        "id": "4sZNBdVeuIy-"
      },
      "source": [
        "# i = 0 x=1 y=1\n",
        "#X = [](1, 0, 0, 0, 0, 0, 0, 0)\n",
        "#Y = [](1, 0, 0, 0, 0, 0, 0, 0)"
      ],
      "execution_count": null,
      "outputs": []
    },
    {
      "cell_type": "code",
      "metadata": {
        "id": "5KWG0zTWzrPq"
      },
      "source": [
        "## ESTADO 0\n",
        "# i = 0 x=0 y=0\n",
        "#X = [](0, 0, 0, 0, 0, 0, 0, 0)\n",
        "#Y = [](0, 0, 0, 0, 0, 0, 0, 0)\n",
        "\n",
        "Action -> i, x,y\n",
        "\n",
        "transition(state, action a){\n",
        "    state_next = State(a.i, a.x, a.y)\n",
        "    return state_next\n",
        "}\n"
      ],
      "execution_count": null,
      "outputs": []
    },
    {
      "cell_type": "code",
      "metadata": {
        "id": "v3GFcNEMaSZN",
        "outputId": "bfbe53f4-14be-436c-ade3-95fe884b13a9",
        "colab": {
          "base_uri": "https://localhost:8080/"
        }
      },
      "source": [
        "lista = [3,2,2,2,1,1,1,1]\n",
        "set(lista)"
      ],
      "execution_count": 1,
      "outputs": [
        {
          "output_type": "execute_result",
          "data": {
            "text/plain": [
              "{1, 2, 3}"
            ]
          },
          "metadata": {
            "tags": []
          },
          "execution_count": 1
        }
      ]
    },
    {
      "cell_type": "code",
      "metadata": {
        "id": "roR6ZApyaUpX"
      },
      "source": [
        "def comprarEstados(): # Heuristica\n",
        "  ## algoritmo \n",
        "\n",
        "  return State()"
      ],
      "execution_count": null,
      "outputs": []
    },
    {
      "cell_type": "code",
      "metadata": {
        "id": "2zLFJWadca6d"
      },
      "source": [
        ""
      ],
      "execution_count": null,
      "outputs": []
    }
  ]
}