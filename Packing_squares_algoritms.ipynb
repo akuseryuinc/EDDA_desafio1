{
  "nbformat": 4,
  "nbformat_minor": 0,
  "metadata": {
    "colab": {
      "name": "Copy of Packing squares algoritms.ipynb",
      "provenance": [],
      "collapsed_sections": [],
      "include_colab_link": true
    },
    "kernelspec": {
      "name": "python3",
      "display_name": "Python 3"
    },
    "language_info": {
      "name": "python"
    }
  },
  "cells": [
    {
      "cell_type": "markdown",
      "metadata": {
        "id": "view-in-github",
        "colab_type": "text"
      },
      "source": [
        "<a href=\"https://colab.research.google.com/github/ebelleng/EDDA_desafio1/blob/main/Copy_of_Packing_squares_algoritms.ipynb\" target=\"_parent\"><img src=\"https://colab.research.google.com/assets/colab-badge.svg\" alt=\"Open In Colab\"/></a>"
      ]
    },
    {
      "cell_type": "markdown",
      "metadata": {
        "id": "Pmu3EcU1CUCQ"
      },
      "source": [
        "# Packing Squares \n"
      ]
    },
    {
      "cell_type": "markdown",
      "metadata": {
        "id": "UqhZv6lod3pe"
      },
      "source": [
        "## Definicion de clases y constantes\n",
        "\n"
      ]
    },
    {
      "cell_type": "code",
      "metadata": {
        "id": "MP3ljxIfjlTg"
      },
      "source": [
        "# Constantes\n",
        "CANT_SQUARES = 8\n",
        "BOARD_SIZE = 5\n",
        "\n",
        "# Largo de los cuadrados a posicionar\n",
        "SQUARES = [3,2,2,2,1,1,1,1]"
      ],
      "execution_count": 1,
      "outputs": []
    },
    {
      "cell_type": "code",
      "metadata": {
        "id": "T1USJY58Gf-w"
      },
      "source": [
        "class Estado:\n",
        "  def __init__(self, i=0, x=0, y=0):\n",
        "    self.X = [0] * CANT_SQUARES\n",
        "    self.Y = [0] * CANT_SQUARES\n",
        "    self.X[i] = x\n",
        "    self.Y[i] = y\n",
        "\n",
        "  def __str__(self):\n",
        "    return f'X={self.X}  Y={self.Y}'"
      ],
      "execution_count": 2,
      "outputs": []
    },
    {
      "cell_type": "code",
      "metadata": {
        "id": "eJJXHhTIfHs-"
      },
      "source": [
        "class Accion:\n",
        "  def __init__(self, i, x, y):\n",
        "    self.i = i\n",
        "    self.x = x\n",
        "    self.y = y\n",
        "\n",
        "  def __str__(self):\n",
        "    return f'{self.i}: ({self.x}, {self.y})'\n",
        "\n",
        "  def __repr__(self):\n",
        "    return self.__str__()"
      ],
      "execution_count": 3,
      "outputs": []
    },
    {
      "cell_type": "markdown",
      "metadata": {
        "id": "vUFArokbWBk0"
      },
      "source": [
        "## Funciones"
      ]
    },
    {
      "cell_type": "code",
      "metadata": {
        "id": "MAX3nFVG-Cov",
        "cellView": "code"
      },
      "source": [
        "def transicion(estado, accion):\n",
        "  estado_siguiente = Estado(accion.i, accion.x, accion.y)\n",
        "  \n",
        "  for j in range(accion.i):\n",
        "    estado_siguiente.X[j] = estado.X[j]\n",
        "    estado_siguiente.Y[j] = estado.Y[j]\n",
        "\n",
        "  return estado_siguiente"
      ],
      "execution_count": 35,
      "outputs": []
    },
    {
      "cell_type": "code",
      "metadata": {
        "id": "uwEWgpL5RoJR"
      },
      "source": [
        "def checkCollitions(x1, y1, s1, x2, y2, s2):\n",
        "  '''\n",
        "  Verifica si los dos cuadrados se solapan\n",
        "  x, y: posicion\n",
        "  s: largo del cuadrado\n",
        "  '''\n",
        "  if (y1 + s1) <= y2:\n",
        "    return False\n",
        "  elif y1 >= (y2 + s2):\n",
        "    return False\n",
        "  elif (x1 + s1) <= x2:\n",
        "    return False\n",
        "  elif x1 >= (x2 + s2):\n",
        "    return False\n",
        "  else:\n",
        "    return True"
      ],
      "execution_count": 36,
      "outputs": []
    },
    {
      "cell_type": "code",
      "metadata": {
        "id": "ixyC9xqr-eT0"
      },
      "source": [
        "def obtener_acciones(state, squares, board_size):\n",
        "  current = state.X.index(0)\n",
        "  size = squares[current]\n",
        "\n",
        "  # Se obtienen las celdas validas para que el cuadrado no se salga del tablero\n",
        "  valid_cells = [(i, j) for i in range(1, board_size - size + 2) for j in range(1, board_size - size + 2)]\n",
        "\n",
        "  # Si es el primer cuadrado a posicionar, no se comprueban las colisiones\n",
        "  if 0 == current:\n",
        "    return [Accion(0, cell[0], cell[1]) for cell in valid_cells]\n",
        "\n",
        "  actions = []\n",
        "\n",
        "  # cell -> dupla que contiene la posicion (cell[0] = X, cell[1]=Y)\n",
        "  for cell in valid_cells:\n",
        "    has_collition = False\n",
        "\n",
        "    # Se revisa si en la posicion actual (cell), colisiona con algun cuadrado ya puesto\n",
        "    for i in range(current):\n",
        "      if checkCollitions(state.X[i], state.Y[i], squares[i], cell[0], cell[1], size):\n",
        "        has_collition = True\n",
        "        break\n",
        "\n",
        "    if not has_collition:\n",
        "      actions.append(Accion(current, cell[0], cell[1]))\n",
        "  \n",
        "  return actions"
      ],
      "execution_count": 37,
      "outputs": []
    },
    {
      "cell_type": "code",
      "metadata": {
        "id": "fJaxFkC3XmcH"
      },
      "source": [
        "def isLastState(state):\n",
        "  return state.X[-1] != 0"
      ],
      "execution_count": 39,
      "outputs": []
    },
    {
      "cell_type": "code",
      "metadata": {
        "id": "roR6ZApyaUpX"
      },
      "source": [
        "def comprarEstados(): # Heuristica\n",
        "  ## algoritmo \n",
        "\n",
        "  return State()"
      ],
      "execution_count": 38,
      "outputs": []
    },
    {
      "cell_type": "code",
      "metadata": {
        "id": "y7opXQElUerE"
      },
      "source": [
        "def depthFirstSearch(initial_state):\n",
        "  # Lista que se usara como PILA\n",
        "  states = [initial_state]\n",
        "\n",
        "  while len(states) != 0:\n",
        "    current_state = states.pop()\n",
        "\n",
        "    if isLastState(current_state):\n",
        "      return current_state\n",
        "\n",
        "    actions = obtener_acciones(current_state, SQUARES, BOARD_SIZE)\n",
        "    for a in actions:\n",
        "      new_state = transicion(current_state, a)\n",
        "      states.append(new_state)\n",
        "\n",
        "  return None"
      ],
      "execution_count": 40,
      "outputs": []
    },
    {
      "cell_type": "markdown",
      "metadata": {
        "id": "lEqt07OjdL2C"
      },
      "source": [
        "## Ejemplos y anotaciones"
      ]
    },
    {
      "cell_type": "code",
      "metadata": {
        "colab": {
          "base_uri": "https://localhost:8080/"
        },
        "id": "RltNF4e-bweU",
        "outputId": "92a9c5cb-a544-42e4-8aff-dd1e416072df"
      },
      "source": [
        "# Ejemplo de como se van calculando las acciones posibles\n",
        "ss = Estado()\n",
        "\n",
        "for i in range(CANT_SQUARES):\n",
        "  print(ss)\n",
        "  actions = obtener_acciones(ss, SQUARES, BOARD_SIZE)\n",
        "  ss = transicion(ss, actions[0])\n",
        "  print(actions, end=\"\\n\\n\")\n",
        "\n",
        "print(ss)"
      ],
      "execution_count": 41,
      "outputs": [
        {
          "output_type": "stream",
          "text": [
            "X=[0, 0, 0, 0, 0, 0, 0, 0]  Y=[0, 0, 0, 0, 0, 0, 0, 0]\n",
            "[0: (1, 1), 0: (1, 2), 0: (1, 3), 0: (2, 1), 0: (2, 2), 0: (2, 3), 0: (3, 1), 0: (3, 2), 0: (3, 3)]\n",
            "\n",
            "X=[1, 0, 0, 0, 0, 0, 0, 0]  Y=[1, 0, 0, 0, 0, 0, 0, 0]\n",
            "[1: (1, 4), 1: (2, 4), 1: (3, 4), 1: (4, 1), 1: (4, 2), 1: (4, 3), 1: (4, 4)]\n",
            "\n",
            "X=[1, 1, 0, 0, 0, 0, 0, 0]  Y=[1, 4, 0, 0, 0, 0, 0, 0]\n",
            "[2: (3, 4), 2: (4, 1), 2: (4, 2), 2: (4, 3), 2: (4, 4)]\n",
            "\n",
            "X=[1, 1, 3, 0, 0, 0, 0, 0]  Y=[1, 4, 4, 0, 0, 0, 0, 0]\n",
            "[3: (4, 1), 3: (4, 2)]\n",
            "\n",
            "X=[1, 1, 3, 4, 0, 0, 0, 0]  Y=[1, 4, 4, 1, 0, 0, 0, 0]\n",
            "[4: (4, 3), 4: (5, 3), 4: (5, 4), 4: (5, 5)]\n",
            "\n",
            "X=[1, 1, 3, 4, 4, 0, 0, 0]  Y=[1, 4, 4, 1, 3, 0, 0, 0]\n",
            "[5: (5, 3), 5: (5, 4), 5: (5, 5)]\n",
            "\n",
            "X=[1, 1, 3, 4, 4, 5, 0, 0]  Y=[1, 4, 4, 1, 3, 3, 0, 0]\n",
            "[6: (5, 4), 6: (5, 5)]\n",
            "\n",
            "X=[1, 1, 3, 4, 4, 5, 5, 0]  Y=[1, 4, 4, 1, 3, 3, 4, 0]\n",
            "[7: (5, 5)]\n",
            "\n",
            "X=[1, 1, 3, 4, 4, 5, 5, 5]  Y=[1, 4, 4, 1, 3, 3, 4, 5]\n"
          ],
          "name": "stdout"
        }
      ]
    },
    {
      "cell_type": "code",
      "metadata": {
        "colab": {
          "base_uri": "https://localhost:8080/"
        },
        "id": "4XLRbXGcYQX8",
        "outputId": "e15978ba-eb54-43fc-a9d8-5a46476932dc"
      },
      "source": [
        "# Ejemplo del resultado al que llega el algoritmo\n",
        "initial_state = Estado()\n",
        "final_state = depthFirstSearch(initial_state)\n",
        "print(final_state)"
      ],
      "execution_count": 42,
      "outputs": [
        {
          "output_type": "stream",
          "text": [
            "X=[3, 4, 2, 1, 2, 1, 1, 1]  Y=[3, 1, 1, 4, 3, 3, 2, 1]\n"
          ],
          "name": "stdout"
        }
      ]
    }
  ]
}