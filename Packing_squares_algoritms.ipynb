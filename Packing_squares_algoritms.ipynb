{
  "nbformat": 4,
  "nbformat_minor": 0,
  "metadata": {
    "colab": {
      "name": "Packing squares algoritms.ipynb",
      "provenance": [],
      "authorship_tag": "ABX9TyPAe/x2pRNzGllZ9hORX02K",
      "include_colab_link": true
    },
    "kernelspec": {
      "name": "python3",
      "display_name": "Python 3"
    },
    "language_info": {
      "name": "python"
    }
  },
  "cells": [
    {
      "cell_type": "markdown",
      "metadata": {
        "id": "view-in-github",
        "colab_type": "text"
      },
      "source": [
        "<a href=\"https://colab.research.google.com/github/ebelleng/EDDA_desafio1/blob/main/Packing_squares_algoritms.ipynb\" target=\"_parent\"><img src=\"https://colab.research.google.com/assets/colab-badge.svg\" alt=\"Open In Colab\"/></a>"
      ]
    },
    {
      "cell_type": "markdown",
      "metadata": {
        "id": "Pmu3EcU1CUCQ"
      },
      "source": [
        "# Packing Squares \n"
      ]
    },
    {
      "cell_type": "code",
      "metadata": {
        "id": "KhdsQp2mCLjJ"
      },
      "source": [
        ""
      ],
      "execution_count": null,
      "outputs": []
    }
  ]
}