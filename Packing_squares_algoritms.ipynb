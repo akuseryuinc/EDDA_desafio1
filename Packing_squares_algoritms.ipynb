{
  "nbformat": 4,
  "nbformat_minor": 0,
  "metadata": {
    "colab": {
      "name": "Packing squares algoritms.ipynb",
      "provenance": [],
      "authorship_tag": "ABX9TyO4aQGgSU+DgnUaiTKfHeEW",
      "include_colab_link": true
    },
    "kernelspec": {
      "name": "python3",
      "display_name": "Python 3"
    },
    "language_info": {
      "name": "python"
    }
  },
  "cells": [
    {
      "cell_type": "markdown",
      "metadata": {
        "id": "view-in-github",
        "colab_type": "text"
      },
      "source": [
        "<a href=\"https://colab.research.google.com/github/ebelleng/EDDA_desafio1/blob/main/Packing_squares_algoritms.ipynb\" target=\"_parent\"><img src=\"https://colab.research.google.com/assets/colab-badge.svg\" alt=\"Open In Colab\"/></a>"
      ]
    },
    {
      "cell_type": "markdown",
      "metadata": {
        "id": "Pmu3EcU1CUCQ"
      },
      "source": [
        "# Packing Squares \n"
      ]
    },
    {
      "cell_type": "code",
      "metadata": {
        "id": "KhdsQp2mCLjJ"
      },
      "source": [
        "def hola_mundo():\n",
        "  print(\"Hola mundo\")"
      ],
      "execution_count": 4,
      "outputs": []
    },
    {
      "cell_type": "code",
      "metadata": {
        "id": "NIbeOO6BC5nj",
        "outputId": "e0feb7ab-4600-448b-de56-41a1aea90330",
        "colab": {
          "base_uri": "https://localhost:8080/"
        }
      },
      "source": [
        "hola_mundo()"
      ],
      "execution_count": 5,
      "outputs": [
        {
          "output_type": "stream",
          "text": [
            "Hola mundo\n"
          ],
          "name": "stdout"
        }
      ]
    }
  ]
}